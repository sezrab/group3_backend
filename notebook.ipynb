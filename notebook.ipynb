{
 "cells": [
  {
   "cell_type": "code",
   "execution_count": 1,
   "metadata": {},
   "outputs": [],
   "source": [
    "import wrappers.semantic_wrapper as sw \n",
    "from datetime import datetime, timedelta"
   ]
  },
  {
   "cell_type": "code",
   "execution_count": 2,
   "metadata": {},
   "outputs": [],
   "source": [
    "last_week = datetime.now() - timedelta(days=7)\n",
    "papers = sw.getSemanticData(\n",
    "    query=\"Natural Language Generation (NLG)\",\n",
    "    start_date=last_week,\n",
    ")"
   ]
  },
  {
   "cell_type": "code",
   "execution_count": 3,
   "metadata": {},
   "outputs": [
    {
     "name": "stdout",
     "output_type": "stream",
     "text": [
      "A Survey on Neural Data-to-Text Generation by Yupian Lin, Tong Ruan, Jingping Liu, Haofen Wang\n",
      "Generative Adversarial Networks for text-to-face synthesis & generation: A quantitative–qualitative analysis of Natural Language Processing encoders for Spanish by Eduardo Yauri-Lozano, M. Castillo-Cara, Luis Orozco-Barbosa, Raúl García-Castro\n",
      "AMP-Diffusion: Integrating Latent Diffusion with Protein Language Models for Antimicrobial Peptide Generation by Tianlai Chen, Pranay Vure, Rishab Pulugurta, Pranam Chatterjee\n",
      "Vision-Language Models for Medical Report Generation and Visual Question Answering: A Review by Iryna Hartsock, Ghulam Rasool\n",
      "Enhancing Court View Generation with Knowledge Injection and Guidance by Ang Li, Yiquan Wu, Yifei Liu, Fei Wu, Ming Cai, Kun Kuang\n"
     ]
    }
   ],
   "source": [
    "for paper in papers[:5]:\n",
    "    print(paper)"
   ]
  }
 ],
 "metadata": {
  "kernelspec": {
   "display_name": "Python 3",
   "language": "python",
   "name": "python3"
  },
  "language_info": {
   "codemirror_mode": {
    "name": "ipython",
    "version": 3
   },
   "file_extension": ".py",
   "mimetype": "text/x-python",
   "name": "python",
   "nbconvert_exporter": "python",
   "pygments_lexer": "ipython3",
   "version": "3.12.0"
  }
 },
 "nbformat": 4,
 "nbformat_minor": 2
}
